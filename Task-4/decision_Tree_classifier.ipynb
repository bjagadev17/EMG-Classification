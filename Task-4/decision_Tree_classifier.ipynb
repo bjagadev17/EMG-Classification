{
 "cells": [
  {
   "cell_type": "code",
   "execution_count": 1,
   "metadata": {},
   "outputs": [],
   "source": [
    "import numpy as np\n",
    "import pandas as pd\n",
    "import matplotlib.pyplot as plt\n",
    "from sklearn.tree import DecisionTreeClassifier\n",
    "from sklearn.metrics import accuracy_score,precision_score,recall_score,confusion_matrix,f1_score,classification_report,precision_recall_curve,roc_curve\n",
    "from sklearn.model_selection import GridSearchCV\n",
    "from sklearn.preprocessing import StandardScaler\n",
    "from sklearn.multiclass import OneVsRestClassifier\n",
    "from sklearn.preprocessing import label_binarize\n"
   ]
  },
  {
   "cell_type": "code",
   "execution_count": 2,
   "metadata": {},
   "outputs": [],
   "source": [
    "def prec_recall(y_test,y_pred):\n",
    "    precision = dict()\n",
    "    recall = dict()\n",
    "    x=range(8)\n",
    "    for i in range(8):\n",
    "        precision[i], recall[i], _ = precision_recall_curve(y_test[:,i],y_pred[:, i])\n",
    "        plt.plot(recall[i], precision[i], lw=2, label='class {}'.format(i+1))\n",
    "\n",
    "    plt.xlabel(\"recall\")\n",
    "    plt.ylabel(\"precision\")\n",
    "    plt.legend(loc=\"best\")\n",
    "    plt.title(\"precision vs. recall curve\")\n",
    "    plt.show()"
   ]
  },
  {
   "cell_type": "code",
   "execution_count": 3,
   "metadata": {},
   "outputs": [],
   "source": [
    "def roc(y_test,y_pred):\n",
    "    fpr = dict()\n",
    "    tpr = dict()\n",
    "    x=range(8)\n",
    "    for i in range(8):\n",
    "        fpr[i], tpr[i], _ = roc_curve(y_test[:, i],y_pred[:, i])\n",
    "        plt.plot(fpr[i], tpr[i], lw=2, label='class {}'.format(i+1))\n",
    "\n",
    "    plt.xlabel(\"false positive rate\")\n",
    "    plt.ylabel(\"true positive rate\")\n",
    "    plt.legend(loc=\"best\")\n",
    "    plt.title(\"ROC curve\")\n",
    "    plt.show()"
   ]
  },
  {
   "cell_type": "code",
   "execution_count": 4,
   "metadata": {},
   "outputs": [],
   "source": [
    "def model(x_train,y_train,x_test,y_test):\n",
    "    print(\"Model : Decision Tree\")\n",
    "    param_grid={'criterion':['gini','entropy'],'max_depth':[5,7,9,13,15,23],'min_samples_leaf':[1,2,5]}\n",
    "    grid = GridSearchCV(DecisionTreeClassifier(), param_grid, cv=5, scoring='accuracy')\n",
    "    grid.fit(x_train,y_train)\n",
    "    y_test_pred=grid.predict(x_test)\n",
    "    print(grid.best_params_)\n",
    "    acc_test=round(accuracy_score(y_test_pred,y_test),4)*100\n",
    "    print(\"Accuracy of Model  on test set : \",acc_test)\n",
    "    print('Classification Report :')\n",
    "    print(classification_report(y_test,y_test_pred,digits=8))\n",
    "    con_mat=confusion_matrix(y_test,y_test_pred,labels=[1,2,3,4,5,6,7,8])\n",
    "    print(\"Confusion Matrix of Model on test set : \")\n",
    "    print(con_mat)\n",
    "    print(\"The total correctly classified data : \",np.trace(con_mat))\n",
    "    classifier=OneVsRestClassifier(DecisionTreeClassifier(criterion=grid.best_params_['criterion'],max_depth=grid.best_params_['max_depth'],min_samples_leaf=grid.best_params_['min_samples_leaf']))\n",
    "    y_pred1=classifier.fit(x_train,y_train).predict_proba(x_test)\n",
    "    y_test1=label_binarize(y_test, classes=[*range(8)])\n",
    "    #print('Precision-Recall Curve')\n",
    "    #prec_recall(y_test1,y_pred1)\n",
    "    #print('ROC Curve')\n",
    "    #roc(y_test1,y_pred1)\n",
    "\n",
    "\n"
   ]
  },
  {
   "cell_type": "code",
   "execution_count": 5,
   "metadata": {},
   "outputs": [
    {
     "name": "stdout",
     "output_type": "stream",
     "text": [
      "Model : Decision Tree\n",
      "{'criterion': 'entropy', 'max_depth': 9, 'min_samples_leaf': 1}\n",
      "Accuracy of Model  on test set :  94.39\n",
      "Classification Report :\n",
      "              precision    recall  f1-score   support\n",
      "\n",
      "           1  0.91719745 0.97406990 0.94477857       887\n",
      "           2  0.99658703 0.99207248 0.99432463       883\n",
      "           3  0.90238612 0.94760820 0.92444444       878\n",
      "           4  0.93390453 0.85826772 0.89449004       889\n",
      "           5  0.98996656 0.99663300 0.99328859       891\n",
      "           6  0.86777778 0.89461627 0.88099267       873\n",
      "           7  0.95278450 0.89431818 0.92262603       880\n",
      "           8  0.99649942 0.99417928 0.99533800       859\n",
      "\n",
      "    accuracy                      0.94389205      7040\n",
      "   macro avg  0.94463792 0.94397063 0.94378537      7040\n",
      "weighted avg  0.94462361 0.94389205 0.94373637      7040\n",
      "\n",
      "Confusion Matrix of Model on test set : \n",
      "[[864   0   0  18   0   0   4   1]\n",
      " [  0 876   1   0   5   1   0   0]\n",
      " [  9   1 832  34   0   1   1   0]\n",
      " [ 69   0  20 763   1  25  11   0]\n",
      " [  0   0   1   0 888   0   0   2]\n",
      " [  0   2  65   2   0 781  23   0]\n",
      " [  0   0   1   0   1  91 787   0]\n",
      " [  0   0   2   0   2   1   0 854]]\n",
      "The total correctly classified data :  6645\n"
     ]
    },
    {
     "name": "stderr",
     "output_type": "stream",
     "text": [
      "C:\\Users\\dell\\AppData\\Local\\Programs\\Python\\Python37\\lib\\site-packages\\sklearn\\multiclass.py:382: RuntimeWarning: invalid value encountered in true_divide\n",
      "  Y /= np.sum(Y, axis=1)[:, np.newaxis]\n"
     ]
    }
   ],
   "source": [
    "if __name__ == '__main__':\n",
    "    train=pd.read_excel('S11_emgdata/S11_trainset_P135_70.xls')  #reading the xls file into dataframe\n",
    "    test=pd.read_excel('S11_emgdata/S11_testset_P12345_30.xls')\n",
    "    \n",
    "    x_tr=train.drop(43,axis=1)    #separating the target values\n",
    "    y_tr=train[43]\n",
    "    x_te=test.drop(43,axis=1)\n",
    "    y_te=test[43]\n",
    "    \n",
    "    x_train=x_tr.to_numpy()        # converting dataframe to numpy array\n",
    "    y_train=y_tr.to_numpy()\n",
    "    x_test=x_te.to_numpy()\n",
    "    y_test=y_te.to_numpy()\n",
    "    \n",
    "    sc=StandardScaler()\n",
    "    x_train=sc.fit_transform(x_train)       #standardizing the features for better traing process\n",
    "    x_test=sc.fit_transform(x_test)\n",
    "    model(x_train,y_train,x_test,y_test)\n",
    "\n",
    "    \n",
    "    "
   ]
  },
  {
   "cell_type": "code",
   "execution_count": null,
   "metadata": {},
   "outputs": [],
   "source": []
  }
 ],
 "metadata": {
  "kernelspec": {
   "display_name": "Python 3.7.3 64-bit",
   "language": "python",
   "name": "python37364bit96eb404c2017436a9a52a6682339f390"
  },
  "language_info": {
   "codemirror_mode": {
    "name": "ipython",
    "version": 3
   },
   "file_extension": ".py",
   "mimetype": "text/x-python",
   "name": "python",
   "nbconvert_exporter": "python",
   "pygments_lexer": "ipython3",
   "version": "3.7.3"
  }
 },
 "nbformat": 4,
 "nbformat_minor": 4
}
