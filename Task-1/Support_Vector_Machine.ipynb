{
 "cells": [
  {
   "cell_type": "code",
   "execution_count": 1,
   "metadata": {},
   "outputs": [],
   "source": [
    "import numpy as np\n",
    "import pandas as pd\n",
    "import matplotlib.pyplot as plt\n",
    "from sklearn.linear_model import LogisticRegression,SGDClassifier\n",
    "from sklearn.svm import SVC\n",
    "from sklearn.metrics import accuracy_score,precision_score,recall_score,confusion_matrix,f1_score,roc_auc_score\n"
   ]
  },
  {
   "cell_type": "code",
   "execution_count": 2,
   "metadata": {},
   "outputs": [],
   "source": [
    "def model6(x_train,y_train,x_val,y_val,x_test,y_test):\n",
    "    svc=SVC()\n",
    "    svc.fit(x_train,y_train)                                                  #fitting the training data into the model\n",
    "    y_test_pred=svc.predict(x_test)                                           #predicting the test data\n",
    "    print(\"Model-6: Support Vector Machine \")\n",
    "    acc_t=round(accuracy_score(y_test_pred,y_test),4)*100                     #accuracy of the predicting model\n",
    "    print(\"Accuracy of Model 6 on test set before tuning: \",acc_t)\n",
    "    pre=round(precision_score(y_test_pred,y_test,average='macro'),4)*100      #precision of the predicting model\n",
    "    print(\"Precision of Model 6 on test set before tuning: \",pre)\n",
    "    rec=round(recall_score(y_test_pred,y_test,average='macro'),4)*100         #recall_Score of the model\n",
    "    print(\"Recall of Model 6 on test set before tuning: \",rec)\n",
    "    f_score=round(f1_score(y_test_pred,y_test,average='macro'),4)*100         #f1_score of the model\n",
    "    print(\"F1-score of Model-6 on test set before tuning: \",f_score)\n",
    "    con_mat=confusion_matrix(y_test,y_test_pred,labels=[1,2,3,4,5,6,7,8])     #confusion matrix of the model\n",
    "    print(\"Confusion Matrix of Model-6 on test set before tuning: \")\n",
    "    print(con_mat)\n",
    "    print(\"---------------------------------------------------------------------------------------------------\")\n",
    "    print(\"Tuning the hyperparameter using validation set\")\n",
    "    C=[1,10,100,1000]                   #first hyper-parameter list containing different regularization value\n",
    "    gamma=[0.001,0.01,0.1,1,10]                #second hyper-parameter list containg different gamma values\n",
    "    poly=[2,3]                          #third hyper-parameter list containing different degree values of kernel 'poly'\n",
    "    feature=[]                        #list that will contain different combination of hyperparameter\n",
    "    a=[]                              #list will contain different accuracy by combining different parameters\n",
    "    for i in C:\n",
    "        for j in gamma:\n",
    "            for k in poly:\n",
    "                svc=SVC(C=i,gamma=j,degree=k,kernel='poly')\n",
    "                svc.fit(x_train,y_train)\n",
    "                y_val_pred=svc.predict(x_val)\n",
    "                acc=round(accuracy_score(y_val_pred,y_val),4)*100\n",
    "                feature.append((i,j,k))\n",
    "                a.append(acc)\n",
    "    m=max(a)                        #getting the maximum accuracy\n",
    "    p=a.index(m)                    #getting the index of max accuracy to obtain the best hyperparameters\n",
    "    svc=SVC(C=feature[p][0],gamma=feature[p][1],degree=feature[p][2],kernel='poly')\n",
    "    x_train=np.concatenate((x_train,x_val))  #Now combining both training and validation data\n",
    "    y_train=np.concatenate((y_train,y_val))  #Now combing the target values of training and validation data\n",
    "    svc.fit(x_train,y_train)        #fitting the training data into the model\n",
    "    y_test_pred=svc.predict(x_test) #predicting the test data\n",
    "    print(\"Model-6: Support Vector Machine \")\n",
    "    acc_t=round(accuracy_score(y_test_pred,y_test),4)*100                    #accuracy of the predicting model\n",
    "    print(\"Accuracy of Model 6 on test set after tuning: \",acc_t)\n",
    "    pre=round(precision_score(y_test_pred,y_test,average='macro'),4)*100     #precision of the predicting model\n",
    "    print(\"Precision of Model 6 on test set after tuning: \",pre)\n",
    "    rec=round(recall_score(y_test_pred,y_test,average='macro'),4)*100        #recall_Score of the model\n",
    "    print(\"Recall of Model 6 on test set after tuning: \",rec)\n",
    "    f_score=round(f1_score(y_test_pred,y_test,average='macro'),4)*100        #f1_score of the model\n",
    "    print(\"F1-score of Model-6 on test set after tuning: \",f_score)\n",
    "    con_mat=confusion_matrix(y_test,y_test_pred,labels=[1,2,3,4,5,6,7,8])    #confusion matrix of the model\n",
    "    print(\"Confusion Matrix of Model-6 on test set after tuning: \")\n",
    "    print(con_mat)\n",
    "    "
   ]
  },
  {
   "cell_type": "code",
   "execution_count": 3,
   "metadata": {},
   "outputs": [
    {
     "name": "stderr",
     "output_type": "stream",
     "text": [
      "c:\\users\\dell\\appdata\\local\\programs\\python\\python37\\lib\\site-packages\\sklearn\\svm\\base.py:193: FutureWarning: The default value of gamma will change from 'auto' to 'scale' in version 0.22 to account better for unscaled features. Set gamma explicitly to 'auto' or 'scale' to avoid this warning.\n",
      "  \"avoid this warning.\", FutureWarning)\n"
     ]
    },
    {
     "name": "stdout",
     "output_type": "stream",
     "text": [
      "Model-6: Support Vector Machine \n",
      "Accuracy of Model 6 on test set before tuning:  90.48\n",
      "Precision of Model 6 on test set before tuning:  90.57\n",
      "Recall of Model 6 on test set before tuning:  90.51\n",
      "F1-score of Model-6 on test set before tuning:  90.48\n",
      "Confusion Matrix of Model-6 on test set before tuning: \n",
      "[[869   0   7   2   1   0   0   0]\n",
      " [  0 880   0   3   0   4   1   0]\n",
      " [  1   0 846  20   8   3   0   0]\n",
      " [  0   1  41 641  15  23 150  26]\n",
      " [  0   3  13  10 796  47   5   0]\n",
      " [  0  17  13  32  38 743  40   0]\n",
      " [  0   0   1  56  10  59 772   0]\n",
      " [  0   0   0  20   0   0   0 823]]\n",
      "---------------------------------------------------------------------------------------------------\n",
      "Tuning the hyperparameter using validation set\n",
      "Model-6: Support Vector Machine \n",
      "Accuracy of Model 6 on test set after tuning:  98.78\n",
      "Precision of Model 6 on test set after tuning:  98.8\n",
      "Recall of Model 6 on test set after tuning:  98.8\n",
      "F1-score of Model-6 on test set after tuning:  98.8\n",
      "Confusion Matrix of Model-6 on test set after tuning: \n",
      "[[879   0   0   0   0   0   0   0]\n",
      " [  0 886   0   0   0   2   0   0]\n",
      " [  0   0 876   2   0   0   0   0]\n",
      " [  0   0   2 875   0   1  19   0]\n",
      " [  0   0   0   0 873   1   0   0]\n",
      " [  0   1   1   1   0 877   3   0]\n",
      " [  0   0   0  43   1   9 845   0]\n",
      " [  0   0   0   0   0   0   0 843]]\n",
      "==========================================================================================================\n"
     ]
    }
   ],
   "source": [
    "if __name__ == '__main__':\n",
    "    train=pd.read_excel('cTTD_features_with_Labels/S2/trainset_60.xls')  #reading the xls file into dataframe\n",
    "    validate=pd.read_excel('cTTD_features_with_Labels/S2/validate_20.xls')\n",
    "    test=pd.read_excel('cTTD_features_with_Labels/S2/testset_20.xls')\n",
    "    \n",
    "    x_tr=train.drop(43,axis=1)    #separating the target values\n",
    "    y_tr=train[43]\n",
    "    x_v=validate.drop(43,axis=1)\n",
    "    y_v=validate[43]\n",
    "    x_te=test.drop(43,axis=1)\n",
    "    y_te=test[43]\n",
    "    \n",
    "    x_train=x_tr.to_numpy()        # converting dataframe to numpy array\n",
    "    y_train=y_tr.to_numpy()\n",
    "    x_val=x_v.to_numpy()\n",
    "    y_val=y_v.to_numpy()\n",
    "    x_test=x_te.to_numpy()\n",
    "    y_test=y_te.to_numpy()\n",
    "    \n",
    "    model6(x_train,y_train,x_val,y_val,x_test,y_test)\n",
    "    print(\"==========================================================================================================\")\n",
    "    \n"
   ]
  },
  {
   "cell_type": "markdown",
   "metadata": {},
   "source": [
    "In the above code,the SVM classifier is done.The accuracy on the test set was 91 percent and after tuning the hyperparameters of  the SVC,the accuracy rises to 98.78 percent.The precision before tuning the hyperparameter is 91.69 and after tuning it become 98.8 percent.Similarly recall before tuning was 91.72 percent and after tuning it become 98.8 and F1 score after tuning increases by 6.13 percent.In my opinion both accuracy and F1 score can be better option for metric evaluation."
   ]
  },
  {
   "cell_type": "markdown",
   "metadata": {},
   "source": [
    "Summary\n",
    " 1. This is the total analysis done using SVM classifier.\n",
    " 2. First ,datasets was converted into numpy array so that it can be easily put in the model.\n",
    " 3. Then we normally train the model without tuning any of its hyperparameter and then test it on test dataset and observe the       metrics \n",
    " 4. After that we tuned the hyperparameters by varying with different values and checked it on validation set and after gettig       the best hyperparameters and after that we combine both train and validate and train as a whole.\n",
    " 5. After that we checked the accuracy,precision,recall,confusion-matrix as well as F1 score of the testing data with predicted     value\n",
    " "
   ]
  },
  {
   "cell_type": "code",
   "execution_count": null,
   "metadata": {},
   "outputs": [],
   "source": []
  }
 ],
 "metadata": {
  "kernelspec": {
   "display_name": "Python 3",
   "language": "python",
   "name": "python3"
  },
  "language_info": {
   "codemirror_mode": {
    "name": "ipython",
    "version": 3
   },
   "file_extension": ".py",
   "mimetype": "text/x-python",
   "name": "python",
   "nbconvert_exporter": "python",
   "pygments_lexer": "ipython3",
   "version": "3.7.3"
  }
 },
 "nbformat": 4,
 "nbformat_minor": 4
}
